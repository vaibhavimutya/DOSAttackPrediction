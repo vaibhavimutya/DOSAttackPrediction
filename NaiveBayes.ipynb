{
  "nbformat": 4,
  "nbformat_minor": 0,
  "metadata": {
    "colab": {
      "name": "DM_NaiveBayes.ipynb",
      "provenance": [],
      "collapsed_sections": []
    },
    "kernelspec": {
      "display_name": "Python 3",
      "name": "python3"
    },
    "language_info": {
      "name": "python"
    }
  },
  "cells": [
    {
      "cell_type": "code",
      "metadata": {
        "colab": {
          "base_uri": "https://localhost:8080/"
        },
        "id": "MvZ_8f4fqDOm",
        "outputId": "11c8458d-650a-4fff-c851-891542f44990"
      },
      "source": [
        "# import relevant modules\n",
        "%matplotlib inline\n",
        "import matplotlib\n",
        "import matplotlib.pyplot as plt\n",
        "import pandas as pd\n",
        "import numpy as np\n",
        "import seaborn as sns\n",
        "import sklearn\n",
        "import os\n",
        "import imblearn\n",
        "from time import time\n",
        "from scipy.stats import chi2_contingency\n",
        "from sklearn import preprocessing #Used only for Data Preprocessing\n",
        "from numpy import argmax\n",
        "\n",
        "# Ignore warnings\n",
        "import warnings\n",
        "warnings.filterwarnings('ignore')\n",
        "\n",
        "# Settings\n",
        "pd.set_option('display.max_columns', None)\n",
        "np.set_printoptions(threshold=np.inf, linewidth=np.nan)\n",
        "np.set_printoptions(precision=3)\n",
        "sns.set(style=\"darkgrid\")\n",
        "plt.rcParams['axes.labelsize'] = 14\n",
        "plt.rcParams['xtick.labelsize'] = 12\n",
        "plt.rcParams['ytick.labelsize'] = 12\n",
        "\n",
        "print(\"pandas : {0}\".format(pd.__version__))\n",
        "print(\"numpy : {0}\".format(np.__version__))\n",
        "print(\"matplotlib : {0}\".format(matplotlib.__version__))\n",
        "print(\"seaborn : {0}\".format(sns.__version__))\n",
        "print(\"sklearn : {0}\".format(sklearn.__version__))\n",
        "print(\"imblearn : {0}\".format(imblearn.__version__))"
      ],
      "execution_count": 1,
      "outputs": [
        {
          "output_type": "stream",
          "name": "stdout",
          "text": [
            "pandas : 1.1.5\n",
            "numpy : 1.19.5\n",
            "matplotlib : 3.2.2\n",
            "seaborn : 0.11.2\n",
            "sklearn : 1.0.1\n",
            "imblearn : 0.8.1\n"
          ]
        }
      ]
    },
    {
      "cell_type": "markdown",
      "metadata": {
        "id": "s-ngZh8sYfPl"
      },
      "source": [
        "# Load Data"
      ]
    },
    {
      "cell_type": "code",
      "metadata": {
        "colab": {
          "base_uri": "https://localhost:8080/"
        },
        "id": "7l0LRFFgIRhV",
        "outputId": "bb36a490-b96b-4cc3-f8bc-145a4431ca61"
      },
      "source": [
        "train_dataframe = pd.read_csv(\"Train_data.csv\")\n",
        "test_dataframe = pd.read_csv(\"Test_data.csv\")\n",
        "print(\"Train dataset shape - \",train_dataframe.shape)\n",
        "print(\"Test dataset shape - \",test_dataframe.shape)"
      ],
      "execution_count": 2,
      "outputs": [
        {
          "output_type": "stream",
          "name": "stdout",
          "text": [
            "Train dataset shape -  (25192, 42)\n",
            "Test dataset shape -  (22544, 41)\n"
          ]
        }
      ]
    },
    {
      "cell_type": "code",
      "metadata": {
        "colab": {
          "base_uri": "https://localhost:8080/"
        },
        "id": "U4WVr6WNJYPF",
        "outputId": "6c891258-4c03-446e-9d45-2713f92abeca"
      },
      "source": [
        "pd.set_option('display.max_columns', None)\n",
        "train_dataframe.head()\n",
        "test_dataframe.head()\n",
        "train_dataframe.info()"
      ],
      "execution_count": 3,
      "outputs": [
        {
          "output_type": "stream",
          "name": "stdout",
          "text": [
            "<class 'pandas.core.frame.DataFrame'>\n",
            "RangeIndex: 25192 entries, 0 to 25191\n",
            "Data columns (total 42 columns):\n",
            " #   Column                       Non-Null Count  Dtype  \n",
            "---  ------                       --------------  -----  \n",
            " 0   duration                     25192 non-null  int64  \n",
            " 1   protocol_type                25192 non-null  object \n",
            " 2   service                      25192 non-null  object \n",
            " 3   flag                         25192 non-null  object \n",
            " 4   src_bytes                    25192 non-null  int64  \n",
            " 5   dst_bytes                    25192 non-null  int64  \n",
            " 6   land                         25192 non-null  int64  \n",
            " 7   wrong_fragment               25192 non-null  int64  \n",
            " 8   urgent                       25192 non-null  int64  \n",
            " 9   hot                          25192 non-null  int64  \n",
            " 10  num_failed_logins            25192 non-null  int64  \n",
            " 11  logged_in                    25192 non-null  int64  \n",
            " 12  num_compromised              25192 non-null  int64  \n",
            " 13  root_shell                   25192 non-null  int64  \n",
            " 14  su_attempted                 25192 non-null  int64  \n",
            " 15  num_root                     25192 non-null  int64  \n",
            " 16  num_file_creations           25192 non-null  int64  \n",
            " 17  num_shells                   25192 non-null  int64  \n",
            " 18  num_access_files             25192 non-null  int64  \n",
            " 19  num_outbound_cmds            25192 non-null  int64  \n",
            " 20  is_host_login                25192 non-null  int64  \n",
            " 21  is_guest_login               25192 non-null  int64  \n",
            " 22  count                        25192 non-null  int64  \n",
            " 23  srv_count                    25192 non-null  int64  \n",
            " 24  serror_rate                  25192 non-null  float64\n",
            " 25  srv_serror_rate              25192 non-null  float64\n",
            " 26  rerror_rate                  25192 non-null  float64\n",
            " 27  srv_rerror_rate              25192 non-null  float64\n",
            " 28  same_srv_rate                25192 non-null  float64\n",
            " 29  diff_srv_rate                25192 non-null  float64\n",
            " 30  srv_diff_host_rate           25192 non-null  float64\n",
            " 31  dst_host_count               25192 non-null  int64  \n",
            " 32  dst_host_srv_count           25192 non-null  int64  \n",
            " 33  dst_host_same_srv_rate       25192 non-null  float64\n",
            " 34  dst_host_diff_srv_rate       25192 non-null  float64\n",
            " 35  dst_host_same_src_port_rate  25192 non-null  float64\n",
            " 36  dst_host_srv_diff_host_rate  25192 non-null  float64\n",
            " 37  dst_host_serror_rate         25192 non-null  float64\n",
            " 38  dst_host_srv_serror_rate     25192 non-null  float64\n",
            " 39  dst_host_rerror_rate         25192 non-null  float64\n",
            " 40  dst_host_srv_rerror_rate     25192 non-null  float64\n",
            " 41  class                        25192 non-null  object \n",
            "dtypes: float64(15), int64(23), object(4)\n",
            "memory usage: 8.1+ MB\n"
          ]
        }
      ]
    },
    {
      "cell_type": "markdown",
      "metadata": {
        "id": "Z5StSTRJZLO4"
      },
      "source": [
        "Notice that only protocol_type, service, flag and class are object type and the rest columns are numerical type"
      ]
    },
    {
      "cell_type": "markdown",
      "metadata": {
        "id": "m67ETzt-YrXF"
      },
      "source": [
        "# Exploratory Data Analysis"
      ]
    },
    {
      "cell_type": "code",
      "metadata": {
        "colab": {
          "base_uri": "https://localhost:8080/"
        },
        "id": "BfabAT7CJnLu",
        "outputId": "deab46e2-549c-4e43-fafe-48b4ceda0b34"
      },
      "source": [
        "t0 = time()\n",
        "print(train_dataframe.groupby('protocol_type')['protocol_type'].count())\n",
        "time() - t0"
      ],
      "execution_count": 4,
      "outputs": [
        {
          "output_type": "stream",
          "name": "stdout",
          "text": [
            "protocol_type\n",
            "icmp     1655\n",
            "tcp     20526\n",
            "udp      3011\n",
            "Name: protocol_type, dtype: int64\n"
          ]
        },
        {
          "output_type": "execute_result",
          "data": {
            "text/plain": [
              "0.0101318359375"
            ]
          },
          "metadata": {},
          "execution_count": 4
        }
      ]
    },
    {
      "cell_type": "code",
      "metadata": {
        "colab": {
          "base_uri": "https://localhost:8080/"
        },
        "id": "GiqhfFvzJouU",
        "outputId": "64dfaac1-235f-4cb5-ee70-3dbdf285ef80"
      },
      "source": [
        "t0 = time()\n",
        "pd.set_option('display.max_row', None)\n",
        "print(train_dataframe.groupby('class')['class'].count())\n",
        "time() - t0"
      ],
      "execution_count": 5,
      "outputs": [
        {
          "output_type": "stream",
          "name": "stdout",
          "text": [
            "class\n",
            "anomaly    11743\n",
            "normal     13449\n",
            "Name: class, dtype: int64\n"
          ]
        },
        {
          "output_type": "execute_result",
          "data": {
            "text/plain": [
              "0.0074007511138916016"
            ]
          },
          "metadata": {},
          "execution_count": 5
        }
      ]
    },
    {
      "cell_type": "code",
      "metadata": {
        "colab": {
          "base_uri": "https://localhost:8080/"
        },
        "id": "ul_17jsyJra9",
        "outputId": "3aba1159-217d-47c4-ab6d-b20b2d54a3ed"
      },
      "source": [
        "t0 = time()\n",
        "print(train_dataframe.groupby('flag')['flag'].count())\n",
        "time() - t0"
      ],
      "execution_count": 6,
      "outputs": [
        {
          "output_type": "stream",
          "name": "stdout",
          "text": [
            "flag\n",
            "OTH           5\n",
            "REJ        2216\n",
            "RSTO        304\n",
            "RSTOS0       21\n",
            "RSTR        497\n",
            "S0         7009\n",
            "S1           88\n",
            "S2           21\n",
            "S3           15\n",
            "SF        14973\n",
            "SH           43\n",
            "Name: flag, dtype: int64\n"
          ]
        },
        {
          "output_type": "execute_result",
          "data": {
            "text/plain": [
              "0.0077517032623291016"
            ]
          },
          "metadata": {},
          "execution_count": 6
        }
      ]
    },
    {
      "cell_type": "markdown",
      "metadata": {
        "id": "6WACpOZgZWwn"
      },
      "source": [
        "# Statistical Based Feature Selection"
      ]
    },
    {
      "cell_type": "code",
      "metadata": {
        "id": "smGlWPK9Jv0d"
      },
      "source": [
        "column_names = train_dataframe.columns"
      ],
      "execution_count": 7,
      "outputs": []
    },
    {
      "cell_type": "code",
      "metadata": {
        "colab": {
          "base_uri": "https://localhost:8080/"
        },
        "id": "Olnh3MzdJzMV",
        "outputId": "248e57bf-b618-4712-8026-b9a9f00965bf"
      },
      "source": [
        "type(column_names)"
      ],
      "execution_count": 8,
      "outputs": [
        {
          "output_type": "execute_result",
          "data": {
            "text/plain": [
              "pandas.core.indexes.base.Index"
            ]
          },
          "metadata": {},
          "execution_count": 8
        }
      ]
    },
    {
      "cell_type": "code",
      "metadata": {
        "id": "SqgvYQPMJ14v"
      },
      "source": [
        "numeric_columns = column_names.drop(['protocol_type', 'flag', 'service'])"
      ],
      "execution_count": 9,
      "outputs": []
    },
    {
      "cell_type": "code",
      "metadata": {
        "colab": {
          "base_uri": "https://localhost:8080/",
          "height": 454
        },
        "id": "oTo3Ggp4J5q0",
        "outputId": "979450d2-f1d7-4325-990b-c9d367c384fd"
      },
      "source": [
        "corr_dataframe = train_dataframe[numeric_columns].corr()\n",
        "sns.heatmap(corr_dataframe)"
      ],
      "execution_count": 10,
      "outputs": [
        {
          "output_type": "execute_result",
          "data": {
            "text/plain": [
              "<matplotlib.axes._subplots.AxesSubplot at 0x7feb36c49090>"
            ]
          },
          "metadata": {},
          "execution_count": 10
        },
        {
          "output_type": "display_data",
          "data": {
            "image/png": "[encoded data removed]",
            "text/plain": [
              "<Figure size 432x288 with 2 Axes>"
            ]
          },
          "metadata": {
            "needs_background": "light"
          }
        }
      ]
    },
    {
      "cell_type": "markdown",
      "metadata": {
        "id": "bvE8buWuZvgL"
      },
      "source": [
        "From the heatmap, we can notice that correlation for num_outbounds_cmds with other features is constant.\n"
      ]
    },
    {
      "cell_type": "code",
      "metadata": {
        "colab": {
          "base_uri": "https://localhost:8080/"
        },
        "id": "PPlXx0NmKOaJ",
        "outputId": "db49bf40-c029-4042-cfb2-8a5edd3e2ab8"
      },
      "source": [
        "train_dataframe['num_outbound_cmds'].unique()"
      ],
      "execution_count": 11,
      "outputs": [
        {
          "output_type": "execute_result",
          "data": {
            "text/plain": [
              "array([0])"
            ]
          },
          "metadata": {},
          "execution_count": 11
        }
      ]
    },
    {
      "cell_type": "code",
      "metadata": {
        "id": "9rhn7Z29KTx4"
      },
      "source": [
        "train_dataframe.drop('num_outbound_cmds', axis = 1, inplace = True)"
      ],
      "execution_count": 12,
      "outputs": []
    },
    {
      "cell_type": "code",
      "metadata": {
        "id": "YH6PJweWcs00"
      },
      "source": [
        "test_dataframe.drop('num_outbound_cmds', axis = 1, inplace = True)"
      ],
      "execution_count": 13,
      "outputs": []
    },
    {
      "cell_type": "markdown",
      "metadata": {
        "id": "KNBigoNbZ13X"
      },
      "source": [
        "num_outbound_cmds coulmn has 0 values for all records, so we can drop this column"
      ]
    },
    {
      "cell_type": "markdown",
      "metadata": {
        "id": "LuMaT6m1aQhI"
      },
      "source": [
        "Find the features that are highly correlated and drop one feature from highly correlated feature"
      ]
    },
    {
      "cell_type": "code",
      "metadata": {
        "id": "H7ReXULyKVGh"
      },
      "source": [
        "highcorr_df = (corr_dataframe.abs() > 0.9) & (corr_dataframe.abs() < 1.0) "
      ],
      "execution_count": 14,
      "outputs": []
    },
    {
      "cell_type": "code",
      "metadata": {
        "colab": {
          "base_uri": "https://localhost:8080/"
        },
        "id": "2FCj8IE-KYyt",
        "outputId": "9da62f24-b30a-409c-bf63-f9d8c52b6617"
      },
      "source": [
        "corr_var_index = (highcorr_df == True).any()\n",
        "corr_var_names = corr_var_index[corr_var_index == True].index\n",
        "\n",
        "delete_duplicate = []\n",
        "corr_pairs = []\n",
        "\n",
        "for i in corr_var_index.index:\n",
        "    row = highcorr_df[i]\n",
        "    delete_duplicate.append(i)\n",
        "    for j in corr_var_names:\n",
        "        if j not in delete_duplicate and row[j] == True:\n",
        "            print(i,j,\": \", corr_dataframe.loc[i,j])\n",
        "            corr_pairs.append((i,j))"
      ],
      "execution_count": 15,
      "outputs": [
        {
          "output_type": "stream",
          "name": "stdout",
          "text": [
            "num_compromised num_root :  0.9989564860270104\n",
            "serror_rate srv_serror_rate :  0.9932900594139392\n",
            "serror_rate dst_host_serror_rate :  0.978021838092273\n",
            "serror_rate dst_host_srv_serror_rate :  0.979601949917278\n",
            "srv_serror_rate dst_host_serror_rate :  0.9763633089078823\n",
            "srv_serror_rate dst_host_srv_serror_rate :  0.9846211977178592\n",
            "rerror_rate srv_rerror_rate :  0.9891336910125826\n",
            "rerror_rate dst_host_rerror_rate :  0.9289919679471647\n",
            "rerror_rate dst_host_srv_rerror_rate :  0.964886035790209\n",
            "srv_rerror_rate dst_host_rerror_rate :  0.9195367413800786\n",
            "srv_rerror_rate dst_host_srv_rerror_rate :  0.9698414193761191\n",
            "dst_host_serror_rate dst_host_srv_serror_rate :  0.9847058568468164\n",
            "dst_host_rerror_rate dst_host_srv_rerror_rate :  0.9253904301448883\n"
          ]
        }
      ]
    },
    {
      "cell_type": "code",
      "metadata": {
        "id": "Rsdh6sMeKc6b"
      },
      "source": [
        "train_dataframe.drop(['num_root', 'srv_serror_rate', 'dst_host_serror_rate', 'dst_host_srv_serror_rate',\n",
        "              'dst_host_rerror_rate', 'dst_host_srv_rerror_rate','is_host_login','su_attempted','wrong_fragment','urgent'], axis = 1, inplace = True)"
      ],
      "execution_count": 16,
      "outputs": []
    },
    {
      "cell_type": "code",
      "metadata": {
        "id": "UVzIW_rNccJE"
      },
      "source": [
        "test_dataframe.drop(['num_root', 'srv_serror_rate', 'dst_host_serror_rate', 'dst_host_srv_serror_rate',\n",
        "              'dst_host_rerror_rate', 'dst_host_srv_rerror_rate','is_host_login','su_attempted','wrong_fragment','urgent'], axis = 1, inplace = True)"
      ],
      "execution_count": 17,
      "outputs": []
    },
    {
      "cell_type": "markdown",
      "metadata": {
        "id": "cAy7jz1CabfX"
      },
      "source": [
        "Perform Chi-Square test to check whether categorical features depend on the output value or not. Before that we need to encode the categorical features"
      ]
    },
    {
      "cell_type": "code",
      "metadata": {
        "colab": {
          "base_uri": "https://localhost:8080/"
        },
        "id": "psS90piFL0pf",
        "outputId": "21490104-5300-47d9-8dbf-59101fe0e24b"
      },
      "source": [
        "train_dataframe.info()"
      ],
      "execution_count": 18,
      "outputs": [
        {
          "output_type": "stream",
          "name": "stdout",
          "text": [
            "<class 'pandas.core.frame.DataFrame'>\n",
            "RangeIndex: 25192 entries, 0 to 25191\n",
            "Data columns (total 31 columns):\n",
            " #   Column                       Non-Null Count  Dtype  \n",
            "---  ------                       --------------  -----  \n",
            " 0   duration                     25192 non-null  int64  \n",
            " 1   protocol_type                25192 non-null  object \n",
            " 2   service                      25192 non-null  object \n",
            " 3   flag                         25192 non-null  object \n",
            " 4   src_bytes                    25192 non-null  int64  \n",
            " 5   dst_bytes                    25192 non-null  int64  \n",
            " 6   land                         25192 non-null  int64  \n",
            " 7   hot                          25192 non-null  int64  \n",
            " 8   num_failed_logins            25192 non-null  int64  \n",
            " 9   logged_in                    25192 non-null  int64  \n",
            " 10  num_compromised              25192 non-null  int64  \n",
            " 11  root_shell                   25192 non-null  int64  \n",
            " 12  num_file_creations           25192 non-null  int64  \n",
            " 13  num_shells                   25192 non-null  int64  \n",
            " 14  num_access_files             25192 non-null  int64  \n",
            " 15  is_guest_login               25192 non-null  int64  \n",
            " 16  count                        25192 non-null  int64  \n",
            " 17  srv_count                    25192 non-null  int64  \n",
            " 18  serror_rate                  25192 non-null  float64\n",
            " 19  rerror_rate                  25192 non-null  float64\n",
            " 20  srv_rerror_rate              25192 non-null  float64\n",
            " 21  same_srv_rate                25192 non-null  float64\n",
            " 22  diff_srv_rate                25192 non-null  float64\n",
            " 23  srv_diff_host_rate           25192 non-null  float64\n",
            " 24  dst_host_count               25192 non-null  int64  \n",
            " 25  dst_host_srv_count           25192 non-null  int64  \n",
            " 26  dst_host_same_srv_rate       25192 non-null  float64\n",
            " 27  dst_host_diff_srv_rate       25192 non-null  float64\n",
            " 28  dst_host_same_src_port_rate  25192 non-null  float64\n",
            " 29  dst_host_srv_diff_host_rate  25192 non-null  float64\n",
            " 30  class                        25192 non-null  object \n",
            "dtypes: float64(10), int64(17), object(4)\n",
            "memory usage: 6.0+ MB\n"
          ]
        }
      ]
    },
    {
      "cell_type": "code",
      "metadata": {
        "id": "38Ms0U2IL5Ex"
      },
      "source": [
        "categorical_columns = ['protocol_type', 'service', 'flag']"
      ],
      "execution_count": 19,
      "outputs": []
    },
    {
      "cell_type": "code",
      "metadata": {
        "colab": {
          "base_uri": "https://localhost:8080/",
          "height": 206
        },
        "id": "hDdyqPZlL6ci",
        "outputId": "02a4ee1a-70c2-4772-b4f9-2b494f504fc2"
      },
      "source": [
        "train_dataframe[categorical_columns].head()"
      ],
      "execution_count": 20,
      "outputs": [
        {
          "output_type": "execute_result",
          "data": {
            "text/html": [
              "<div>\n",
              "<style scoped>\n",
              "    .dataframe tbody tr th:only-of-type {\n",
              "        vertical-align: middle;\n",
              "    }\n",
              "\n",
              "    .dataframe tbody tr th {\n",
              "        vertical-align: top;\n",
              "    }\n",
              "\n",
              "    .dataframe thead th {\n",
              "        text-align: right;\n",
              "    }\n",
              "</style>\n",
              "<table border=\"1\" class=\"dataframe\">\n",
              "  <thead>\n",
              "    <tr style=\"text-align: right;\">\n",
              "      <th></th>\n",
              "      <th>protocol_type</th>\n",
              "      <th>service</th>\n",
              "      <th>flag</th>\n",
              "    </tr>\n",
              "  </thead>\n",
              "  <tbody>\n",
              "    <tr>\n",
              "      <th>0</th>\n",
              "      <td>tcp</td>\n",
              "      <td>ftp_data</td>\n",
              "      <td>SF</td>\n",
              "    </tr>\n",
              "    <tr>\n",
              "      <th>1</th>\n",
              "      <td>udp</td>\n",
              "      <td>other</td>\n",
              "      <td>SF</td>\n",
              "    </tr>\n",
              "    <tr>\n",
              "      <th>2</th>\n",
              "      <td>tcp</td>\n",
              "      <td>private</td>\n",
              "      <td>S0</td>\n",
              "    </tr>\n",
              "    <tr>\n",
              "      <th>3</th>\n",
              "      <td>tcp</td>\n",
              "      <td>http</td>\n",
              "      <td>SF</td>\n",
              "    </tr>\n",
              "    <tr>\n",
              "      <th>4</th>\n",
              "      <td>tcp</td>\n",
              "      <td>http</td>\n",
              "      <td>SF</td>\n",
              "    </tr>\n",
              "  </tbody>\n",
              "</table>\n",
              "</div>"
            ],
            "text/plain": [
              "  protocol_type   service flag\n",
              "0           tcp  ftp_data   SF\n",
              "1           udp     other   SF\n",
              "2           tcp   private   S0\n",
              "3           tcp      http   SF\n",
              "4           tcp      http   SF"
            ]
          },
          "metadata": {},
          "execution_count": 20
        }
      ]
    },
    {
      "cell_type": "markdown",
      "metadata": {
        "id": "u0l_s1B1afta"
      },
      "source": [
        "# Label Encoding"
      ]
    },
    {
      "cell_type": "code",
      "metadata": {
        "id": "IW1p28O7L9s_"
      },
      "source": [
        "label_encoder = preprocessing.LabelEncoder()\n",
        "train_dataframe['protocol_type'] = label_encoder.fit_transform(train_dataframe['protocol_type'])\n",
        "train_dataframe['service'] = label_encoder.fit_transform(train_dataframe['service'])\n",
        "train_dataframe['flag'] = label_encoder.fit_transform(train_dataframe['flag'])\n",
        "train_dataframe['class'] = label_encoder.fit_transform(train_dataframe['class'])"
      ],
      "execution_count": 21,
      "outputs": []
    },
    {
      "cell_type": "code",
      "metadata": {
        "id": "OtfTptpTcU5o"
      },
      "source": [
        "test_dataframe['protocol_type'] = label_encoder.fit_transform(test_dataframe['protocol_type'])\n",
        "test_dataframe['service'] = label_encoder.fit_transform(test_dataframe['service'])\n",
        "test_dataframe['flag'] = label_encoder.fit_transform(test_dataframe['flag'])"
      ],
      "execution_count": 22,
      "outputs": []
    },
    {
      "cell_type": "code",
      "metadata": {
        "colab": {
          "base_uri": "https://localhost:8080/",
          "height": 206
        },
        "id": "-IRQ895kMB3r",
        "outputId": "f835f95f-3149-472d-d6d2-857f75d76388"
      },
      "source": [
        "train_dataframe[categorical_columns].head()"
      ],
      "execution_count": 23,
      "outputs": [
        {
          "output_type": "execute_result",
          "data": {
            "text/html": [
              "<div>\n",
              "<style scoped>\n",
              "    .dataframe tbody tr th:only-of-type {\n",
              "        vertical-align: middle;\n",
              "    }\n",
              "\n",
              "    .dataframe tbody tr th {\n",
              "        vertical-align: top;\n",
              "    }\n",
              "\n",
              "    .dataframe thead th {\n",
              "        text-align: right;\n",
              "    }\n",
              "</style>\n",
              "<table border=\"1\" class=\"dataframe\">\n",
              "  <thead>\n",
              "    <tr style=\"text-align: right;\">\n",
              "      <th></th>\n",
              "      <th>protocol_type</th>\n",
              "      <th>service</th>\n",
              "      <th>flag</th>\n",
              "    </tr>\n",
              "  </thead>\n",
              "  <tbody>\n",
              "    <tr>\n",
              "      <th>0</th>\n",
              "      <td>1</td>\n",
              "      <td>19</td>\n",
              "      <td>9</td>\n",
              "    </tr>\n",
              "    <tr>\n",
              "      <th>1</th>\n",
              "      <td>2</td>\n",
              "      <td>41</td>\n",
              "      <td>9</td>\n",
              "    </tr>\n",
              "    <tr>\n",
              "      <th>2</th>\n",
              "      <td>1</td>\n",
              "      <td>46</td>\n",
              "      <td>5</td>\n",
              "    </tr>\n",
              "    <tr>\n",
              "      <th>3</th>\n",
              "      <td>1</td>\n",
              "      <td>22</td>\n",
              "      <td>9</td>\n",
              "    </tr>\n",
              "    <tr>\n",
              "      <th>4</th>\n",
              "      <td>1</td>\n",
              "      <td>22</td>\n",
              "      <td>9</td>\n",
              "    </tr>\n",
              "  </tbody>\n",
              "</table>\n",
              "</div>"
            ],
            "text/plain": [
              "   protocol_type  service  flag\n",
              "0              1       19     9\n",
              "1              2       41     9\n",
              "2              1       46     5\n",
              "3              1       22     9\n",
              "4              1       22     9"
            ]
          },
          "metadata": {},
          "execution_count": 23
        }
      ]
    },
    {
      "cell_type": "markdown",
      "metadata": {
        "id": "Unu39PeVaq_-"
      },
      "source": [
        "To calculate chi square test we need to contigency table. At first we consider protocol_type and class. Let's take the significant value be 0.05"
      ]
    },
    {
      "cell_type": "code",
      "metadata": {
        "colab": {
          "base_uri": "https://localhost:8080/"
        },
        "id": "LcJMNrpbME9T",
        "outputId": "5bf516c6-589d-44c1-df14-17127e476202"
      },
      "source": [
        "chi2_contingency(pd.crosstab(train_dataframe['protocol_type'], train_dataframe['class']))\n",
        "#p value is 0.0 which is less than significant value. Hence protocol_type and class are not independent"
      ],
      "execution_count": 24,
      "outputs": [
        {
          "output_type": "execute_result",
          "data": {
            "text/plain": [
              "(2035.9495530281392, 0.0, 2, array([[  771.462,   883.538],\n",
              "        [ 9567.991, 10958.009],\n",
              "        [ 1403.548,  1607.452]]))"
            ]
          },
          "metadata": {},
          "execution_count": 24
        }
      ]
    },
    {
      "cell_type": "code",
      "metadata": {
        "colab": {
          "base_uri": "https://localhost:8080/"
        },
        "id": "f9jyleIpMLQJ",
        "outputId": "c7f8a096-666e-47d1-8495-29d30288d917"
      },
      "source": [
        "chi2_contingency(pd.crosstab(train_dataframe['flag'], train_dataframe['class']))\n",
        "#P value is 0.0 which is less than significant value. Hence flag and class are not independent"
      ],
      "execution_count": 25,
      "outputs": [
        {
          "output_type": "execute_result",
          "data": {
            "text/plain": [
              "(15153.701360910532, 0.0, 10, array([[2.331e+00, 2.669e+00],\n",
              "        [1.033e+03, 1.183e+03],\n",
              "        [1.417e+02, 1.623e+02],\n",
              "        [9.789e+00, 1.121e+01],\n",
              "        [2.317e+02, 2.653e+02],\n",
              "        [3.267e+03, 3.742e+03],\n",
              "        [4.102e+01, 4.698e+01],\n",
              "        [9.789e+00, 1.121e+01],\n",
              "        [6.992e+00, 8.008e+00],\n",
              "        [6.980e+03, 7.993e+03],\n",
              "        [2.004e+01, 2.296e+01]]))"
            ]
          },
          "metadata": {},
          "execution_count": 25
        }
      ]
    },
    {
      "cell_type": "code",
      "metadata": {
        "colab": {
          "base_uri": "https://localhost:8080/"
        },
        "id": "nSJfAvNLMOZL",
        "outputId": "e63bb6a8-5b9d-40ac-9835-8e8b71c90420"
      },
      "source": [
        "chi2_contingency(pd.crosstab(train_dataframe['service'], train_dataframe['class']))\n",
        "#p value is 0.0 which is less than significant value. Hence service and class features are not independent."
      ],
      "execution_count": 26,
      "outputs": [
        {
          "output_type": "execute_result",
          "data": {
            "text/plain": [
              "(18639.26162888648, 0.0, 65, array([[1.865e+01, 2.135e+01],\n",
              "        [1.026e+01, 1.174e+01],\n",
              "        [8.018e+01, 9.182e+01],\n",
              "        [8.810e+01, 1.009e+02],\n",
              "        [6.806e+01, 7.794e+01],\n",
              "        [7.645e+01, 8.755e+01],\n",
              "        [5.174e+01, 5.926e+01],\n",
              "        [5.920e+01, 6.780e+01],\n",
              "        [4.988e+01, 5.712e+01],\n",
              "        [4.894e+01, 5.606e+01],\n",
              "        [5.081e+01, 5.819e+01],\n",
              "        [8.484e+02, 9.716e+02],\n",
              "        [3.030e+01, 3.470e+01],\n",
              "        [4.237e+02, 4.853e+02],\n",
              "        [2.857e+02, 3.273e+02],\n",
              "        [5.128e+01, 5.872e+01],\n",
              "        [4.242e+01, 4.858e+01],\n",
              "        [1.706e+02, 1.954e+02],\n",
              "        [1.608e+02, 1.842e+02],\n",
              "        [6.507e+02, 7.453e+02],\n",
              "        [5.081e+01, 5.819e+01],\n",
              "        [4.475e+01, 5.125e+01],\n",
              "        [3.731e+03, 4.272e+03],\n",
              "        [5.267e+01, 6.033e+01],\n",
              "        [4.661e-01, 5.339e-01],\n",
              "        [6.433e+01, 7.367e+01],\n",
              "        [6.106e+01, 6.994e+01],\n",
              "        [4.288e+01, 4.912e+01],\n",
              "        [3.123e+01, 3.577e+01],\n",
              "        [4.195e+01, 4.805e+01],\n",
              "        [3.962e+01, 4.538e+01],\n",
              "        [3.683e+01, 4.217e+01],\n",
              "        [4.195e+01, 4.805e+01],\n",
              "        [4.288e+01, 4.912e+01],\n",
              "        [3.962e+01, 4.538e+01],\n",
              "        [3.543e+01, 4.057e+01],\n",
              "        [3.123e+01, 3.577e+01],\n",
              "        [3.636e+01, 4.164e+01],\n",
              "        [5.734e+01, 6.566e+01],\n",
              "        [2.843e+01, 3.257e+01],\n",
              "        [1.492e+01, 1.708e+01],\n",
              "        [3.999e+02, 4.581e+02],\n",
              "        [1.398e+00, 1.602e+00],\n",
              "        [7.924e+00, 9.076e+00],\n",
              "        [2.471e+01, 2.829e+01],\n",
              "        [5.594e+00, 6.406e+00],\n",
              "        [2.028e+03, 2.323e+03],\n",
              "        [1.398e+00, 1.602e+00],\n",
              "        [7.924e+00, 9.076e+00],\n",
              "        [9.323e+00, 1.068e+01],\n",
              "        [5.128e+00, 5.872e+00],\n",
              "        [6.754e+02, 7.736e+02],\n",
              "        [2.144e+01, 2.456e+01],\n",
              "        [2.704e+01, 3.096e+01],\n",
              "        [3.123e+01, 3.577e+01],\n",
              "        [5.314e+01, 6.086e+01],\n",
              "        [4.102e+01, 4.698e+01],\n",
              "        [2.251e+02, 2.579e+02],\n",
              "        [9.323e-01, 1.068e+00],\n",
              "        [7.225e+01, 8.275e+01],\n",
              "        [1.865e+00, 2.135e+00],\n",
              "        [5.780e+01, 6.620e+01],\n",
              "        [7.318e+01, 8.382e+01],\n",
              "        [6.200e+01, 7.100e+01],\n",
              "        [4.988e+01, 5.712e+01],\n",
              "        [6.759e+01, 7.741e+01]]))"
            ]
          },
          "metadata": {},
          "execution_count": 26
        }
      ]
    },
    {
      "cell_type": "markdown",
      "metadata": {
        "id": "3XFgtQ5ebxGm"
      },
      "source": [
        "# Model"
      ]
    },
    {
      "cell_type": "code",
      "metadata": {
        "colab": {
          "base_uri": "https://localhost:8080/"
        },
        "id": "ywPUpK_ihfXq",
        "outputId": "24fd6711-950b-4f1b-c9e3-50d5b274c656"
      },
      "source": [
        "# Naive Bayes Algorithm\n",
        "from csv import reader\n",
        "from random import seed\n",
        "from random import randrange\n",
        "from math import sqrt\n",
        "from math import exp\n",
        "from math import pi\n",
        "\n",
        "# Split the dataset by class values, returns a dictionary\n",
        "def split_class(dataset):\n",
        "\tseparatedclasses = dict()\n",
        "\tfor i in range(len(dataset)):\n",
        "\t\ttemp = dataset[i]\n",
        "\t\tclass_value = temp[-1]\n",
        "\t\tif (class_value not in separatedclasses):\n",
        "\t\t\tseparatedclasses[class_value] = list()\n",
        "\t\tseparatedclasses[class_value].append(temp)\n",
        "\treturn separatedclasses\n",
        "\n",
        "# Calculate the mean of a list of numbers\n",
        "def mean(num):\n",
        "\treturn sum(num)/float(len(num))\n",
        "\n",
        "# Calculate the standard deviation of a list of numbers\n",
        "def stdev(num):\n",
        "\tavg = mean(num)\n",
        "\tvariance = sum([(x-avg)**2 for x in num]) / float(len(num)-1)\n",
        "\treturn sqrt(variance)\n",
        "\n",
        "# Calculate the mean, stdev and count for each column in a dataset\n",
        "def compute_dataset(dataset):\n",
        "\tresults = [(mean(column), stdev(column), len(column)) for column in zip(*dataset)]\n",
        "\tdel(results[-1])\n",
        "\treturn results\n",
        "\n",
        "# Split dataset by class then calculate statistics for each row\n",
        "def compute_class(dataset):\n",
        "\tseparatedclasses = split_class(dataset)\n",
        "\tresults = dict()\n",
        "\tfor class_value, rows in separatedclasses.items():\n",
        "\t\tresults[class_value] = compute_dataset(rows)\n",
        "\treturn results\n",
        "\n",
        "# Calculate the Gaussian probability distribution function for x\n",
        "def compute_probability(x, mean, stdev):\n",
        "  try:\n",
        "    exponent = exp(-((x-mean)**2 / (2 * stdev**2 )))\n",
        "    a = (1 / (sqrt(2 * pi) * stdev)) * exponent\n",
        "  except ZeroDivisionError:\n",
        "    a = 0.0\n",
        "    exponent = 0.0\n",
        "  return a\n",
        "\n",
        "# Calculate the probabilities of predicting each class for a given row\n",
        "def class_probabilities(results, row):\n",
        "\ttotal_rows = sum([results[label][0][2] for label in results])\n",
        "\tproba = dict()\n",
        "\tfor class_value, class_results in results.items():\n",
        "\t\tproba[class_value] = results[class_value][0][2]/float(total_rows)\n",
        "\t\tfor i in range(len(class_results)):\n",
        "\t\t\tmean, stdev, _ = class_results[i]\n",
        "\t\t\tproba[class_value] *= compute_probability(row[i], mean, stdev)\n",
        "\treturn proba\n",
        "\n",
        "# Predict the class for a given row\n",
        "def predict(results, row):\n",
        "\tproba = class_probabilities(results, row)\n",
        "\tbest_label, best_prob = None, -1\n",
        "\tfor class_value, probability in proba.items():\n",
        "\t\tif best_label is None or probability > best_prob:\n",
        "\t\t\tbest_prob = probability\n",
        "\t\t\tbest_label = class_value\n",
        "\treturn best_label\n",
        "\n",
        "# Naive Bayes Algorithm\n",
        "def naive_bayes_algo(train, test):\n",
        "\tsummarize = compute_class(train)\n",
        "\tpredictions = list()\n",
        "\tfor row in test:\n",
        "\t\toutput = predict(summarize, row)\n",
        "\t\tpredictions.append(output)\n",
        "\treturn(predictions)\n",
        "\n",
        "# Test Naive Bayes on Iris Dataset\n",
        "seed(1)\n",
        "dataset = np.asarray(train_dataframe[0:])\n",
        "\n",
        "pred=naive_bayes_algo(dataset[0:20154],dataset[20154:])\n",
        "\n",
        "#print(pred)\n",
        "from sklearn.metrics import confusion_matrix, f1_score, accuracy_score\n",
        "print(\"Naive Bayes Model Results \")\n",
        "print(\"Confusion Matrix\")\n",
        "print(confusion_matrix(dataset[20154::,-1],pred))\n",
        "print('accuracy=%f'%(accuracy_score(dataset[20154::,-1],pred)))\n",
        "print('f1-score=%f'%(f1_score(dataset[20154::,-1],pred)))\n"
      ],
      "execution_count": 27,
      "outputs": [
        {
          "output_type": "stream",
          "name": "stdout",
          "text": [
            "Naive Bayes Model Results \n",
            "Confusion Matrix\n",
            "[[2143  220]\n",
            " [ 338 2337]]\n",
            "accuracy=0.889242\n",
            "f1-score=0.893349\n"
          ]
        }
      ]
    },
    {
      "cell_type": "code",
      "metadata": {
        "id": "c6dyuFBk-g92"
      },
      "source": [
        "Y = train_dataframe['class']\n",
        "train_dataframe.drop('class', axis=1, inplace = True)"
      ],
      "execution_count": 28,
      "outputs": []
    },
    {
      "cell_type": "code",
      "metadata": {
        "id": "ysfyjH9w-vy7"
      },
      "source": [
        "from sklearn import model_selection\n",
        "from sklearn import metrics\n",
        "from sklearn.naive_bayes import BernoulliNB\n",
        "X_train, X_valid, Y_train, Y_valid = model_selection.train_test_split(train_dataframe, Y, test_size = 0.2)"
      ],
      "execution_count": 29,
      "outputs": []
    },
    {
      "cell_type": "code",
      "metadata": {
        "id": "3Anx_hXk_Hr3"
      },
      "source": [
        "model = BernoulliNB()\n",
        "model = model.fit(X_train, Y_train)"
      ],
      "execution_count": 30,
      "outputs": []
    },
    {
      "cell_type": "code",
      "metadata": {
        "colab": {
          "base_uri": "https://localhost:8080/"
        },
        "id": "QomU9Ert_KQC",
        "outputId": "af05cfd8-1993-47fa-dc82-036a707a2c86"
      },
      "source": [
        "pred = model.predict(X_valid)\n",
        "print(\"Sklearn Naive Bayes\")\n",
        "print(\"Confusion Matrix\")\n",
        "print(metrics.confusion_matrix(Y_valid, pred))\n",
        "print('accuracy=%f'%(accuracy_score(Y_valid, pred)))\n",
        "print('f1-score=%f'%(f1_score(Y_valid, pred)))"
      ],
      "execution_count": 31,
      "outputs": [
        {
          "output_type": "stream",
          "name": "stdout",
          "text": [
            "Sklearn Naive Bayes\n",
            "Confusion Matrix\n",
            "[[2008  325]\n",
            " [ 203 2503]]\n",
            "accuracy=0.895217\n",
            "f1-score=0.904590\n"
          ]
        }
      ]
    }
  ]
}